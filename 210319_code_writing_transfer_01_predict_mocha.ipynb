{
 "cells": [
  {
   "cell_type": "code",
   "execution_count": 7,
   "id": "abandoned-helena",
   "metadata": {},
   "outputs": [],
   "source": [
    "import glob\n",
    "import numpy as np\n",
    "import os\n",
    "import pandas as pd\n",
    "from tqdm import tqdm\n",
    "\n",
    "import tensorflow as tf\n",
    "from tensorflow import keras"
   ]
  },
  {
   "cell_type": "code",
   "execution_count": 2,
   "id": "quiet-penalty",
   "metadata": {},
   "outputs": [],
   "source": [
    "os.chdir('data')\n",
    "test_paths = sorted(glob.glob('./test_imgs/*.jpg'))"
   ]
  },
  {
   "cell_type": "code",
   "execution_count": 3,
   "id": "asian-duration",
   "metadata": {},
   "outputs": [],
   "source": [
    "reconstructed_model = keras.models.load_model(\"model_210318.h5\")"
   ]
  },
  {
   "cell_type": "code",
   "execution_count": 4,
   "id": "uniform-concept",
   "metadata": {},
   "outputs": [
    {
     "name": "stderr",
     "output_type": "stream",
     "text": [
      "100%|██████████| 1600/1600 [00:15<00:00, 101.41it/s]\n"
     ]
    },
    {
     "data": {
      "text/plain": [
       "TensorShape([1600, 270, 480, 3])"
      ]
     },
     "execution_count": 4,
     "metadata": {},
     "output_type": "execute_result"
    }
   ],
   "source": [
    "X_test = []\n",
    "\n",
    "for test_path in tqdm(test_paths):\n",
    "    img = tf.io.read_file(test_path)\n",
    "    img = tf.image.decode_jpeg(img, channels=3)\n",
    "    img = tf.image.resize(img, [270, 480])\n",
    "    img = img/255\n",
    "    X_test.append(img)\n",
    "\n",
    "X_test = tf.stack(X_test, axis=0)\n",
    "X_test.shape"
   ]
  },
  {
   "cell_type": "code",
   "execution_count": 5,
   "id": "detected-nothing",
   "metadata": {},
   "outputs": [],
   "source": [
    "pred = reconstructed_model.predict(X_test)"
   ]
  },
  {
   "cell_type": "code",
   "execution_count": 8,
   "id": "maritime-nepal",
   "metadata": {},
   "outputs": [],
   "source": [
    "submission = pd.read_csv('./sample_submission.csv')\n",
    "# image size를 1920x1080 -> 480x270으로 바꿔서 예측했으므로 * 4\n",
    "submission.iloc[:, 1:] = pred*4"
   ]
  },
  {
   "cell_type": "code",
   "execution_count": 9,
   "id": "recovered-transport",
   "metadata": {},
   "outputs": [],
   "source": [
    "# submission\n",
    "submission.to_csv('submission_210319_01.csv', index=False)"
   ]
  }
 ],
 "metadata": {
  "kernelspec": {
   "display_name": "aiffel",
   "language": "python",
   "name": "aiffel"
  },
  "language_info": {
   "codemirror_mode": {
    "name": "ipython",
    "version": 3
   },
   "file_extension": ".py",
   "mimetype": "text/x-python",
   "name": "python",
   "nbconvert_exporter": "python",
   "pygments_lexer": "ipython3",
   "version": "3.7.10"
  },
  "toc": {
   "base_numbering": 1,
   "nav_menu": {},
   "number_sections": false,
   "sideBar": true,
   "skip_h1_title": false,
   "title_cell": "Table of Contents",
   "title_sidebar": "Contents",
   "toc_cell": false,
   "toc_position": {},
   "toc_section_display": true,
   "toc_window_display": false
  }
 },
 "nbformat": 4,
 "nbformat_minor": 5
}
